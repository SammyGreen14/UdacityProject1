{
 "cells": [
  {
   "cell_type": "code",
   "execution_count": 2,
   "metadata": {},
   "outputs": [],
   "source": [
    "import numpy as np\n",
    "import pandas as pd\n",
    "import matplotlib.pyplot as plt\n",
    "from sklearn.linear_model import LinearRegression\n",
    "from sklearn.model_selection import train_test_split\n",
    "from sklearn.metrics import r2_score, mean_squared_error\n",
    "import AllTogether as t\n",
    "import seaborn as sns\n",
    "%matplotlib inline\n",
    "\n"
   ]
  },
  {
   "cell_type": "code",
   "execution_count": 3,
   "metadata": {},
   "outputs": [
    {
     "data": {
      "text/html": [
       "<div>\n",
       "<style scoped>\n",
       "    .dataframe tbody tr th:only-of-type {\n",
       "        vertical-align: middle;\n",
       "    }\n",
       "\n",
       "    .dataframe tbody tr th {\n",
       "        vertical-align: top;\n",
       "    }\n",
       "\n",
       "    .dataframe thead th {\n",
       "        text-align: right;\n",
       "    }\n",
       "</style>\n",
       "<table border=\"1\" class=\"dataframe\">\n",
       "  <thead>\n",
       "    <tr style=\"text-align: right;\">\n",
       "      <th></th>\n",
       "      <th>_STATE</th>\n",
       "      <th>FMONTH</th>\n",
       "      <th>IDATE</th>\n",
       "      <th>IMONTH</th>\n",
       "      <th>IDAY</th>\n",
       "      <th>IYEAR</th>\n",
       "      <th>DISPCODE</th>\n",
       "      <th>SEQNO</th>\n",
       "      <th>_PSU</th>\n",
       "      <th>CTELENUM</th>\n",
       "      <th>...</th>\n",
       "      <th>_PAREC1</th>\n",
       "      <th>_PASTAE1</th>\n",
       "      <th>_LMTACT1</th>\n",
       "      <th>_LMTWRK1</th>\n",
       "      <th>_LMTSCL1</th>\n",
       "      <th>_RFSEAT2</th>\n",
       "      <th>_RFSEAT3</th>\n",
       "      <th>_FLSHOT6</th>\n",
       "      <th>_PNEUMO2</th>\n",
       "      <th>_AIDTST3</th>\n",
       "    </tr>\n",
       "  </thead>\n",
       "  <tbody>\n",
       "    <tr>\n",
       "      <th>0</th>\n",
       "      <td>1.0</td>\n",
       "      <td>1.0</td>\n",
       "      <td>b'01292015'</td>\n",
       "      <td>b'01'</td>\n",
       "      <td>b'29'</td>\n",
       "      <td>b'2015'</td>\n",
       "      <td>1200.0</td>\n",
       "      <td>2.015000e+09</td>\n",
       "      <td>2.015000e+09</td>\n",
       "      <td>1.0</td>\n",
       "      <td>...</td>\n",
       "      <td>4.0</td>\n",
       "      <td>2.0</td>\n",
       "      <td>1.0</td>\n",
       "      <td>1.0</td>\n",
       "      <td>1.0</td>\n",
       "      <td>1.0</td>\n",
       "      <td>1.0</td>\n",
       "      <td>NaN</td>\n",
       "      <td>NaN</td>\n",
       "      <td>1.0</td>\n",
       "    </tr>\n",
       "    <tr>\n",
       "      <th>1</th>\n",
       "      <td>1.0</td>\n",
       "      <td>1.0</td>\n",
       "      <td>b'01202015'</td>\n",
       "      <td>b'01'</td>\n",
       "      <td>b'20'</td>\n",
       "      <td>b'2015'</td>\n",
       "      <td>1100.0</td>\n",
       "      <td>2.015000e+09</td>\n",
       "      <td>2.015000e+09</td>\n",
       "      <td>1.0</td>\n",
       "      <td>...</td>\n",
       "      <td>2.0</td>\n",
       "      <td>2.0</td>\n",
       "      <td>3.0</td>\n",
       "      <td>3.0</td>\n",
       "      <td>4.0</td>\n",
       "      <td>2.0</td>\n",
       "      <td>2.0</td>\n",
       "      <td>NaN</td>\n",
       "      <td>NaN</td>\n",
       "      <td>2.0</td>\n",
       "    </tr>\n",
       "    <tr>\n",
       "      <th>2</th>\n",
       "      <td>1.0</td>\n",
       "      <td>1.0</td>\n",
       "      <td>b'02012015'</td>\n",
       "      <td>b'02'</td>\n",
       "      <td>b'01'</td>\n",
       "      <td>b'2015'</td>\n",
       "      <td>1200.0</td>\n",
       "      <td>2.015000e+09</td>\n",
       "      <td>2.015000e+09</td>\n",
       "      <td>1.0</td>\n",
       "      <td>...</td>\n",
       "      <td>9.0</td>\n",
       "      <td>9.0</td>\n",
       "      <td>9.0</td>\n",
       "      <td>9.0</td>\n",
       "      <td>9.0</td>\n",
       "      <td>9.0</td>\n",
       "      <td>9.0</td>\n",
       "      <td>9.0</td>\n",
       "      <td>9.0</td>\n",
       "      <td>NaN</td>\n",
       "    </tr>\n",
       "    <tr>\n",
       "      <th>3</th>\n",
       "      <td>1.0</td>\n",
       "      <td>1.0</td>\n",
       "      <td>b'01142015'</td>\n",
       "      <td>b'01'</td>\n",
       "      <td>b'14'</td>\n",
       "      <td>b'2015'</td>\n",
       "      <td>1100.0</td>\n",
       "      <td>2.015000e+09</td>\n",
       "      <td>2.015000e+09</td>\n",
       "      <td>1.0</td>\n",
       "      <td>...</td>\n",
       "      <td>4.0</td>\n",
       "      <td>2.0</td>\n",
       "      <td>1.0</td>\n",
       "      <td>1.0</td>\n",
       "      <td>1.0</td>\n",
       "      <td>1.0</td>\n",
       "      <td>1.0</td>\n",
       "      <td>NaN</td>\n",
       "      <td>NaN</td>\n",
       "      <td>9.0</td>\n",
       "    </tr>\n",
       "    <tr>\n",
       "      <th>4</th>\n",
       "      <td>1.0</td>\n",
       "      <td>1.0</td>\n",
       "      <td>b'01142015'</td>\n",
       "      <td>b'01'</td>\n",
       "      <td>b'14'</td>\n",
       "      <td>b'2015'</td>\n",
       "      <td>1100.0</td>\n",
       "      <td>2.015000e+09</td>\n",
       "      <td>2.015000e+09</td>\n",
       "      <td>1.0</td>\n",
       "      <td>...</td>\n",
       "      <td>4.0</td>\n",
       "      <td>2.0</td>\n",
       "      <td>1.0</td>\n",
       "      <td>1.0</td>\n",
       "      <td>1.0</td>\n",
       "      <td>1.0</td>\n",
       "      <td>1.0</td>\n",
       "      <td>NaN</td>\n",
       "      <td>NaN</td>\n",
       "      <td>1.0</td>\n",
       "    </tr>\n",
       "  </tbody>\n",
       "</table>\n",
       "<p>5 rows × 330 columns</p>\n",
       "</div>"
      ],
      "text/plain": [
       "   _STATE  FMONTH        IDATE IMONTH   IDAY    IYEAR  DISPCODE         SEQNO  \\\n",
       "0     1.0     1.0  b'01292015'  b'01'  b'29'  b'2015'    1200.0  2.015000e+09   \n",
       "1     1.0     1.0  b'01202015'  b'01'  b'20'  b'2015'    1100.0  2.015000e+09   \n",
       "2     1.0     1.0  b'02012015'  b'02'  b'01'  b'2015'    1200.0  2.015000e+09   \n",
       "3     1.0     1.0  b'01142015'  b'01'  b'14'  b'2015'    1100.0  2.015000e+09   \n",
       "4     1.0     1.0  b'01142015'  b'01'  b'14'  b'2015'    1100.0  2.015000e+09   \n",
       "\n",
       "           _PSU  CTELENUM    ...     _PAREC1  _PASTAE1  _LMTACT1  _LMTWRK1  \\\n",
       "0  2.015000e+09       1.0    ...         4.0       2.0       1.0       1.0   \n",
       "1  2.015000e+09       1.0    ...         2.0       2.0       3.0       3.0   \n",
       "2  2.015000e+09       1.0    ...         9.0       9.0       9.0       9.0   \n",
       "3  2.015000e+09       1.0    ...         4.0       2.0       1.0       1.0   \n",
       "4  2.015000e+09       1.0    ...         4.0       2.0       1.0       1.0   \n",
       "\n",
       "   _LMTSCL1  _RFSEAT2  _RFSEAT3  _FLSHOT6  _PNEUMO2  _AIDTST3  \n",
       "0       1.0       1.0       1.0       NaN       NaN       1.0  \n",
       "1       4.0       2.0       2.0       NaN       NaN       2.0  \n",
       "2       9.0       9.0       9.0       9.0       9.0       NaN  \n",
       "3       1.0       1.0       1.0       NaN       NaN       9.0  \n",
       "4       1.0       1.0       1.0       NaN       NaN       1.0  \n",
       "\n",
       "[5 rows x 330 columns]"
      ]
     },
     "execution_count": 3,
     "metadata": {},
     "output_type": "execute_result"
    }
   ],
   "source": [
    "#Import dataset\n",
    "data = pd.read_csv('./2015.csv')\n",
    "data.head()"
   ]
  },
  {
   "cell_type": "code",
   "execution_count": 4,
   "metadata": {},
   "outputs": [
    {
     "name": "stdout",
     "output_type": "stream",
     "text": [
      "(441456, 330)\n"
     ]
    }
   ],
   "source": [
    "print(data.shape)"
   ]
  },
  {
   "cell_type": "code",
   "execution_count": 5,
   "metadata": {},
   "outputs": [],
   "source": [
    "# Data Cleaning"
   ]
  },
  {
   "cell_type": "code",
   "execution_count": 6,
   "metadata": {},
   "outputs": [],
   "source": [
    "# Drop Rows with missing Diabetes Response\n",
    "data = data.dropna(subset = ['DIABETE3'], axis = 0)\n",
    "#Drop Rows where caller refused to answer Diabetes Question or were unsure\n",
    "data = data[data['DIABETE3'] != 9]\n",
    "data = data[data['DIABETE3'] != 7]\n",
    "data.shape[0]\n",
    "# Make the Response Model Yes or No \n",
    "#1 = Yes 0 = No\n",
    "data['DIABETE3'] = data['DIABETE3'].replace([2],1)\n",
    "data['DIABETE3'] = data['DIABETE3'].replace([4],0)\n",
    "data['DIABETE3'] = data['DIABETE3'].replace([3],0)"
   ]
  },
  {
   "cell_type": "code",
   "execution_count": 7,
   "metadata": {},
   "outputs": [
    {
     "name": "stdout",
     "output_type": "stream",
     "text": [
      "(440658, 180)\n"
     ]
    }
   ],
   "source": [
    "#Drop columns with 50% or more missing data\n",
    "data_1 = data.dropna(axis = 1, thresh = 220628)\n",
    "print(data_1.shape)"
   ]
  },
  {
   "cell_type": "code",
   "execution_count": 8,
   "metadata": {},
   "outputs": [
    {
     "data": {
      "text/plain": [
       "['_STATE',\n",
       " 'FMONTH',\n",
       " 'IDATE',\n",
       " 'IMONTH',\n",
       " 'IDAY',\n",
       " 'IYEAR',\n",
       " 'DISPCODE',\n",
       " 'SEQNO',\n",
       " '_PSU',\n",
       " 'CTELENUM',\n",
       " 'PVTRESD1',\n",
       " 'STATERES',\n",
       " 'CELLFON3',\n",
       " 'NUMADULT',\n",
       " 'NUMMEN',\n",
       " 'NUMWOMEN',\n",
       " 'GENHLTH',\n",
       " 'PHYSHLTH',\n",
       " 'MENTHLTH',\n",
       " 'POORHLTH',\n",
       " 'HLTHPLN1',\n",
       " 'PERSDOC2',\n",
       " 'MEDCOST',\n",
       " 'CHECKUP1',\n",
       " 'BPHIGH4',\n",
       " 'BLOODCHO',\n",
       " 'CHOLCHK',\n",
       " 'TOLDHI2',\n",
       " 'CVDINFR4',\n",
       " 'CVDCRHD4',\n",
       " 'CVDSTRK3',\n",
       " 'ASTHMA3',\n",
       " 'CHCSCNCR',\n",
       " 'CHCOCNCR',\n",
       " 'CHCCOPD1',\n",
       " 'HAVARTH3',\n",
       " 'ADDEPEV2',\n",
       " 'CHCKIDNY',\n",
       " 'DIABETE3',\n",
       " 'SEX',\n",
       " 'MARITAL',\n",
       " 'EDUCA',\n",
       " 'RENTHOM1',\n",
       " 'NUMHHOL2',\n",
       " 'CPDEMO1',\n",
       " 'VETERAN3',\n",
       " 'EMPLOY1',\n",
       " 'CHILDREN',\n",
       " 'INCOME2',\n",
       " 'INTERNET',\n",
       " 'WEIGHT2',\n",
       " 'HEIGHT3',\n",
       " 'QLACTLM2',\n",
       " 'USEEQUIP',\n",
       " 'BLIND',\n",
       " 'DECIDE',\n",
       " 'DIFFWALK',\n",
       " 'DIFFDRES',\n",
       " 'DIFFALON',\n",
       " 'SMOKE100',\n",
       " 'USENOW3',\n",
       " 'ALCDAY5',\n",
       " 'FRUITJU1',\n",
       " 'FRUIT1',\n",
       " 'FVBEANS',\n",
       " 'FVGREEN',\n",
       " 'FVORANG',\n",
       " 'VEGETAB1',\n",
       " 'EXERANY2',\n",
       " 'EXRACT11',\n",
       " 'EXEROFT1',\n",
       " 'EXERHMM1',\n",
       " 'EXRACT21',\n",
       " 'STRENGTH',\n",
       " 'SEATBELT',\n",
       " 'FLUSHOT6',\n",
       " 'PNEUVAC3',\n",
       " 'HIVTST6',\n",
       " 'PCDMDECN',\n",
       " 'QSTVER',\n",
       " 'QSTLANG',\n",
       " 'EXACTOT1',\n",
       " 'EXACTOT2',\n",
       " 'MSCODE',\n",
       " '_STSTR',\n",
       " '_STRWT',\n",
       " '_RAWRAKE',\n",
       " '_WT2RAKE',\n",
       " '_CHISPNC',\n",
       " '_DUALUSE',\n",
       " '_DUALCOR',\n",
       " '_LLCPWT',\n",
       " '_RFHLTH',\n",
       " '_HCVU651',\n",
       " '_RFHYPE5',\n",
       " '_CHOLCHK',\n",
       " '_RFCHOL',\n",
       " '_MICHD',\n",
       " '_LTASTH1',\n",
       " '_CASTHM1',\n",
       " '_ASTHMS1',\n",
       " '_DRDXAR1',\n",
       " '_PRACE1',\n",
       " '_MRACE1',\n",
       " '_HISPANC',\n",
       " '_RACE',\n",
       " '_RACEG21',\n",
       " '_RACEGR3',\n",
       " '_RACE_G1',\n",
       " '_AGEG5YR',\n",
       " '_AGE65YR',\n",
       " '_AGE80',\n",
       " '_AGE_G',\n",
       " 'HTIN4',\n",
       " 'HTM4',\n",
       " 'WTKG3',\n",
       " '_BMI5',\n",
       " '_BMI5CAT',\n",
       " '_RFBMI5',\n",
       " '_CHLDCNT',\n",
       " '_EDUCAG',\n",
       " '_INCOMG',\n",
       " '_SMOKER3',\n",
       " '_RFSMOK3',\n",
       " 'DRNKANY5',\n",
       " 'DROCDY3_',\n",
       " '_RFBING5',\n",
       " '_DRNKWEK',\n",
       " '_RFDRHV5',\n",
       " 'FTJUDA1_',\n",
       " 'FRUTDA1_',\n",
       " 'BEANDAY_',\n",
       " 'GRENDAY_',\n",
       " 'ORNGDAY_',\n",
       " 'VEGEDA1_',\n",
       " '_MISFRTN',\n",
       " '_MISVEGN',\n",
       " '_FRTRESP',\n",
       " '_VEGRESP',\n",
       " '_FRUTSUM',\n",
       " '_VEGESUM',\n",
       " '_FRTLT1',\n",
       " '_VEGLT1',\n",
       " '_FRT16',\n",
       " '_VEG23',\n",
       " '_FRUITEX',\n",
       " '_VEGETEX',\n",
       " '_TOTINDA',\n",
       " 'METVL11_',\n",
       " 'METVL21_',\n",
       " 'MAXVO2_',\n",
       " 'FC60_',\n",
       " 'ACTIN11_',\n",
       " 'ACTIN21_',\n",
       " 'PADUR1_',\n",
       " 'PAFREQ1_',\n",
       " '_MINAC11',\n",
       " '_MINAC21',\n",
       " 'STRFREQ_',\n",
       " 'PAMISS1_',\n",
       " 'PAMIN11_',\n",
       " 'PAMIN21_',\n",
       " 'PA1MIN_',\n",
       " 'PAVIG11_',\n",
       " 'PAVIG21_',\n",
       " 'PA1VIGM_',\n",
       " '_PACAT1',\n",
       " '_PAINDX1',\n",
       " '_PA150R2',\n",
       " '_PA300R2',\n",
       " '_PA30021',\n",
       " '_PASTRNG',\n",
       " '_PAREC1',\n",
       " '_PASTAE1',\n",
       " '_LMTACT1',\n",
       " '_LMTWRK1',\n",
       " '_LMTSCL1',\n",
       " '_RFSEAT2',\n",
       " '_RFSEAT3',\n",
       " '_AIDTST3']"
      ]
     },
     "execution_count": 8,
     "metadata": {},
     "output_type": "execute_result"
    }
   ],
   "source": [
    "list(data_1.columns)"
   ]
  },
  {
   "cell_type": "code",
   "execution_count": 9,
   "metadata": {},
   "outputs": [
    {
     "name": "stdout",
     "output_type": "stream",
     "text": [
      "(374441, 180)\n"
     ]
    }
   ],
   "source": [
    "#Remove callers who did not finish survey\n",
    "Complete_data = data_1[data_1['DISPCODE'] != 1200]\n",
    "print(Complete_data.shape)"
   ]
  },
  {
   "cell_type": "code",
   "execution_count": 157,
   "metadata": {},
   "outputs": [
    {
     "data": {
      "text/html": [
       "<div>\n",
       "<style scoped>\n",
       "    .dataframe tbody tr th:only-of-type {\n",
       "        vertical-align: middle;\n",
       "    }\n",
       "\n",
       "    .dataframe tbody tr th {\n",
       "        vertical-align: top;\n",
       "    }\n",
       "\n",
       "    .dataframe thead th {\n",
       "        text-align: right;\n",
       "    }\n",
       "</style>\n",
       "<table border=\"1\" class=\"dataframe\">\n",
       "  <thead>\n",
       "    <tr style=\"text-align: right;\">\n",
       "      <th></th>\n",
       "      <th>_STATE</th>\n",
       "      <th>FMONTH</th>\n",
       "      <th>IDATE</th>\n",
       "      <th>IMONTH</th>\n",
       "      <th>IDAY</th>\n",
       "      <th>IYEAR</th>\n",
       "      <th>DISPCODE</th>\n",
       "      <th>SEQNO</th>\n",
       "      <th>_PSU</th>\n",
       "      <th>CTELENUM</th>\n",
       "      <th>...</th>\n",
       "      <th>_PA30021</th>\n",
       "      <th>_PASTRNG</th>\n",
       "      <th>_PAREC1</th>\n",
       "      <th>_PASTAE1</th>\n",
       "      <th>_LMTACT1</th>\n",
       "      <th>_LMTWRK1</th>\n",
       "      <th>_LMTSCL1</th>\n",
       "      <th>_RFSEAT2</th>\n",
       "      <th>_RFSEAT3</th>\n",
       "      <th>_AIDTST3</th>\n",
       "    </tr>\n",
       "  </thead>\n",
       "  <tbody>\n",
       "    <tr>\n",
       "      <th>1</th>\n",
       "      <td>1.0</td>\n",
       "      <td>1.0</td>\n",
       "      <td>b'01202015'</td>\n",
       "      <td>b'01'</td>\n",
       "      <td>b'20'</td>\n",
       "      <td>b'2015'</td>\n",
       "      <td>1100.0</td>\n",
       "      <td>2.015000e+09</td>\n",
       "      <td>2.015000e+09</td>\n",
       "      <td>1.0</td>\n",
       "      <td>...</td>\n",
       "      <td>2.0</td>\n",
       "      <td>2.0</td>\n",
       "      <td>2.0</td>\n",
       "      <td>2.0</td>\n",
       "      <td>3.0</td>\n",
       "      <td>3.0</td>\n",
       "      <td>4.0</td>\n",
       "      <td>2.0</td>\n",
       "      <td>2.0</td>\n",
       "      <td>2.0</td>\n",
       "    </tr>\n",
       "    <tr>\n",
       "      <th>3</th>\n",
       "      <td>1.0</td>\n",
       "      <td>1.0</td>\n",
       "      <td>b'01142015'</td>\n",
       "      <td>b'01'</td>\n",
       "      <td>b'14'</td>\n",
       "      <td>b'2015'</td>\n",
       "      <td>1100.0</td>\n",
       "      <td>2.015000e+09</td>\n",
       "      <td>2.015000e+09</td>\n",
       "      <td>1.0</td>\n",
       "      <td>...</td>\n",
       "      <td>2.0</td>\n",
       "      <td>2.0</td>\n",
       "      <td>4.0</td>\n",
       "      <td>2.0</td>\n",
       "      <td>1.0</td>\n",
       "      <td>1.0</td>\n",
       "      <td>1.0</td>\n",
       "      <td>1.0</td>\n",
       "      <td>1.0</td>\n",
       "      <td>9.0</td>\n",
       "    </tr>\n",
       "    <tr>\n",
       "      <th>4</th>\n",
       "      <td>1.0</td>\n",
       "      <td>1.0</td>\n",
       "      <td>b'01142015'</td>\n",
       "      <td>b'01'</td>\n",
       "      <td>b'14'</td>\n",
       "      <td>b'2015'</td>\n",
       "      <td>1100.0</td>\n",
       "      <td>2.015000e+09</td>\n",
       "      <td>2.015000e+09</td>\n",
       "      <td>1.0</td>\n",
       "      <td>...</td>\n",
       "      <td>2.0</td>\n",
       "      <td>2.0</td>\n",
       "      <td>4.0</td>\n",
       "      <td>2.0</td>\n",
       "      <td>1.0</td>\n",
       "      <td>1.0</td>\n",
       "      <td>1.0</td>\n",
       "      <td>1.0</td>\n",
       "      <td>1.0</td>\n",
       "      <td>1.0</td>\n",
       "    </tr>\n",
       "    <tr>\n",
       "      <th>5</th>\n",
       "      <td>1.0</td>\n",
       "      <td>1.0</td>\n",
       "      <td>b'01142015'</td>\n",
       "      <td>b'01'</td>\n",
       "      <td>b'14'</td>\n",
       "      <td>b'2015'</td>\n",
       "      <td>1100.0</td>\n",
       "      <td>2.015000e+09</td>\n",
       "      <td>2.015000e+09</td>\n",
       "      <td>1.0</td>\n",
       "      <td>...</td>\n",
       "      <td>1.0</td>\n",
       "      <td>2.0</td>\n",
       "      <td>2.0</td>\n",
       "      <td>2.0</td>\n",
       "      <td>1.0</td>\n",
       "      <td>2.0</td>\n",
       "      <td>3.0</td>\n",
       "      <td>1.0</td>\n",
       "      <td>1.0</td>\n",
       "      <td>2.0</td>\n",
       "    </tr>\n",
       "    <tr>\n",
       "      <th>6</th>\n",
       "      <td>1.0</td>\n",
       "      <td>1.0</td>\n",
       "      <td>b'01052015'</td>\n",
       "      <td>b'01'</td>\n",
       "      <td>b'05'</td>\n",
       "      <td>b'2015'</td>\n",
       "      <td>1100.0</td>\n",
       "      <td>2.015000e+09</td>\n",
       "      <td>2.015000e+09</td>\n",
       "      <td>1.0</td>\n",
       "      <td>...</td>\n",
       "      <td>1.0</td>\n",
       "      <td>2.0</td>\n",
       "      <td>2.0</td>\n",
       "      <td>2.0</td>\n",
       "      <td>3.0</td>\n",
       "      <td>3.0</td>\n",
       "      <td>4.0</td>\n",
       "      <td>1.0</td>\n",
       "      <td>1.0</td>\n",
       "      <td>1.0</td>\n",
       "    </tr>\n",
       "  </tbody>\n",
       "</table>\n",
       "<p>5 rows × 180 columns</p>\n",
       "</div>"
      ],
      "text/plain": [
       "   _STATE  FMONTH        IDATE IMONTH   IDAY    IYEAR  DISPCODE         SEQNO  \\\n",
       "1     1.0     1.0  b'01202015'  b'01'  b'20'  b'2015'    1100.0  2.015000e+09   \n",
       "3     1.0     1.0  b'01142015'  b'01'  b'14'  b'2015'    1100.0  2.015000e+09   \n",
       "4     1.0     1.0  b'01142015'  b'01'  b'14'  b'2015'    1100.0  2.015000e+09   \n",
       "5     1.0     1.0  b'01142015'  b'01'  b'14'  b'2015'    1100.0  2.015000e+09   \n",
       "6     1.0     1.0  b'01052015'  b'01'  b'05'  b'2015'    1100.0  2.015000e+09   \n",
       "\n",
       "           _PSU  CTELENUM    ...     _PA30021  _PASTRNG  _PAREC1  _PASTAE1  \\\n",
       "1  2.015000e+09       1.0    ...          2.0       2.0      2.0       2.0   \n",
       "3  2.015000e+09       1.0    ...          2.0       2.0      4.0       2.0   \n",
       "4  2.015000e+09       1.0    ...          2.0       2.0      4.0       2.0   \n",
       "5  2.015000e+09       1.0    ...          1.0       2.0      2.0       2.0   \n",
       "6  2.015000e+09       1.0    ...          1.0       2.0      2.0       2.0   \n",
       "\n",
       "   _LMTACT1  _LMTWRK1  _LMTSCL1  _RFSEAT2  _RFSEAT3  _AIDTST3  \n",
       "1       3.0       3.0       4.0       2.0       2.0       2.0  \n",
       "3       1.0       1.0       1.0       1.0       1.0       9.0  \n",
       "4       1.0       1.0       1.0       1.0       1.0       1.0  \n",
       "5       1.0       2.0       3.0       1.0       1.0       2.0  \n",
       "6       3.0       3.0       4.0       1.0       1.0       1.0  \n",
       "\n",
       "[5 rows x 180 columns]"
      ]
     },
     "execution_count": 157,
     "metadata": {},
     "output_type": "execute_result"
    }
   ],
   "source": [
    "Complete_data.head()"
   ]
  },
  {
   "cell_type": "code",
   "execution_count": 158,
   "metadata": {},
   "outputs": [
    {
     "name": "stdout",
     "output_type": "stream",
     "text": [
      "(35301, 180)\n"
     ]
    }
   ],
   "source": [
    "#Look at number of Rows without any NA\n",
    "Complete_data2 = Complete_data.dropna()\n",
    "print(Complete_data2.shape)"
   ]
  },
  {
   "cell_type": "code",
   "execution_count": 10,
   "metadata": {},
   "outputs": [
    {
     "name": "stdout",
     "output_type": "stream",
     "text": [
      "(374441, 118)\n"
     ]
    }
   ],
   "source": [
    "#Keep Columns without NA\n",
    "Complete_data = Complete_data.dropna(axis = 1, how = 'any')\n",
    "print(Complete_data.shape)"
   ]
  },
  {
   "cell_type": "code",
   "execution_count": 11,
   "metadata": {},
   "outputs": [
    {
     "data": {
      "text/html": [
       "<div>\n",
       "<style scoped>\n",
       "    .dataframe tbody tr th:only-of-type {\n",
       "        vertical-align: middle;\n",
       "    }\n",
       "\n",
       "    .dataframe tbody tr th {\n",
       "        vertical-align: top;\n",
       "    }\n",
       "\n",
       "    .dataframe thead th {\n",
       "        text-align: right;\n",
       "    }\n",
       "</style>\n",
       "<table border=\"1\" class=\"dataframe\">\n",
       "  <thead>\n",
       "    <tr style=\"text-align: right;\">\n",
       "      <th></th>\n",
       "      <th>Diabetes</th>\n",
       "      <th>AgeGroup</th>\n",
       "      <th>Weight</th>\n",
       "      <th>IncomeGroup</th>\n",
       "      <th>EducationLevel</th>\n",
       "      <th>Race</th>\n",
       "      <th>MentallyHealthyDays</th>\n",
       "      <th>Gender</th>\n",
       "      <th>State</th>\n",
       "    </tr>\n",
       "  </thead>\n",
       "  <tbody>\n",
       "    <tr>\n",
       "      <th>1</th>\n",
       "      <td>0.0</td>\n",
       "      <td>7.0</td>\n",
       "      <td>165.0</td>\n",
       "      <td>1.0</td>\n",
       "      <td>6.0</td>\n",
       "      <td>1.0</td>\n",
       "      <td>88.0</td>\n",
       "      <td>2.0</td>\n",
       "      <td>1.0</td>\n",
       "    </tr>\n",
       "    <tr>\n",
       "      <th>3</th>\n",
       "      <td>0.0</td>\n",
       "      <td>9.0</td>\n",
       "      <td>180.0</td>\n",
       "      <td>8.0</td>\n",
       "      <td>4.0</td>\n",
       "      <td>1.0</td>\n",
       "      <td>30.0</td>\n",
       "      <td>2.0</td>\n",
       "      <td>1.0</td>\n",
       "    </tr>\n",
       "    <tr>\n",
       "      <th>4</th>\n",
       "      <td>0.0</td>\n",
       "      <td>9.0</td>\n",
       "      <td>142.0</td>\n",
       "      <td>77.0</td>\n",
       "      <td>5.0</td>\n",
       "      <td>1.0</td>\n",
       "      <td>88.0</td>\n",
       "      <td>2.0</td>\n",
       "      <td>1.0</td>\n",
       "    </tr>\n",
       "    <tr>\n",
       "      <th>5</th>\n",
       "      <td>0.0</td>\n",
       "      <td>11.0</td>\n",
       "      <td>145.0</td>\n",
       "      <td>6.0</td>\n",
       "      <td>3.0</td>\n",
       "      <td>1.0</td>\n",
       "      <td>88.0</td>\n",
       "      <td>2.0</td>\n",
       "      <td>1.0</td>\n",
       "    </tr>\n",
       "    <tr>\n",
       "      <th>6</th>\n",
       "      <td>0.0</td>\n",
       "      <td>11.0</td>\n",
       "      <td>148.0</td>\n",
       "      <td>4.0</td>\n",
       "      <td>5.0</td>\n",
       "      <td>7.0</td>\n",
       "      <td>3.0</td>\n",
       "      <td>2.0</td>\n",
       "      <td>1.0</td>\n",
       "    </tr>\n",
       "  </tbody>\n",
       "</table>\n",
       "</div>"
      ],
      "text/plain": [
       "   Diabetes  AgeGroup  Weight  IncomeGroup  EducationLevel  Race  \\\n",
       "1       0.0       7.0   165.0          1.0             6.0   1.0   \n",
       "3       0.0       9.0   180.0          8.0             4.0   1.0   \n",
       "4       0.0       9.0   142.0         77.0             5.0   1.0   \n",
       "5       0.0      11.0   145.0          6.0             3.0   1.0   \n",
       "6       0.0      11.0   148.0          4.0             5.0   7.0   \n",
       "\n",
       "   MentallyHealthyDays  Gender  State  \n",
       "1                 88.0     2.0    1.0  \n",
       "3                 30.0     2.0    1.0  \n",
       "4                 88.0     2.0    1.0  \n",
       "5                 88.0     2.0    1.0  \n",
       "6                  3.0     2.0    1.0  "
      ]
     },
     "execution_count": 11,
     "metadata": {},
     "output_type": "execute_result"
    }
   ],
   "source": [
    "#Focus on smaller set of columns to answer Questions\n",
    "Complete_data = Complete_data[['DIABETE3','_AGEG5YR', 'WEIGHT2', 'INCOME2', 'EDUCA', '_RACE', 'MENTHLTH', 'SEX', '_STATE']]\n",
    "Complete_data= Complete_data.rename(columns = {'DIABETE3': 'Diabetes', '_AGEG5YR': 'AgeGroup', 'WEIGHT2': 'Weight', \n",
    "                                               'INCOME2': 'IncomeGroup', 'EDUCA': 'EducationLevel', '_RACE':'Race', \n",
    "                                               'MENTHLTH':'MentallyHealthyDays', 'SEX': 'Gender', '_STATE': 'State'})\n",
    "\n",
    "\n",
    "Complete_data.head()"
   ]
  },
  {
   "cell_type": "code",
   "execution_count": 12,
   "metadata": {},
   "outputs": [],
   "source": [
    "#Values with a 9 to start are Metric - Convert all to lbs\n",
    "Complete_data['Weight'] = np.where(Complete_data['Weight'] > 8999,\n",
    "                                           (Complete_data['Weight'] - 9000)*2.20462,\n",
    "                                           Complete_data['Weight'])\n",
    "bins = [0,100,150,200,250,300,350,400,1000,9999]\n",
    "labels = ['Under 100', '100-150', '151-200', '201-250', '251-300', '301-350', '351-400', '400+','Refused/Unknown']\n",
    "Complete_data['WeightGroup'] = pd.cut(Complete_data['Weight'], bins=bins, labels=labels, right=False)"
   ]
  },
  {
   "cell_type": "code",
   "execution_count": 162,
   "metadata": {},
   "outputs": [
    {
     "data": {
      "text/plain": [
       "7777.0"
      ]
     },
     "execution_count": 162,
     "metadata": {},
     "output_type": "execute_result"
    }
   ],
   "source": [
    "#Ensure max weight is not above 9000\n",
    "np.max(Complete_data['Weight'])"
   ]
  },
  {
   "cell_type": "code",
   "execution_count": 164,
   "metadata": {},
   "outputs": [
    {
     "name": "stdout",
     "output_type": "stream",
     "text": [
      "0.0442705814665\n"
     ]
    }
   ],
   "source": [
    "## Can Diabetes be predicted well knowing age, weight, income, education, race, mental health, gender, and state?\n",
    "# Model\n",
    "y = Complete_data['Diabetes']\n",
    "X = Complete_data[['AgeGroup','WeightGroup','IncomeGroup','EducationLevel','Race','MentallyHealthyDays','Gender','State']]\n",
    "X = X.replace({'WeightGroup':{'Under 100':100, '100-150':150, '151-200':200, '201-250':250, '251-300':300, '301-350':350, '351-400':400, '400+':500,'Refused/Unknown':7777}})\n",
    "X_train, X_test, y_train, y_test = train_test_split(X, y, test_size = .3, random_state = 24)\n",
    "lm_model = LinearRegression(normalize = True)\n",
    "lm_model.fit(X_train, y_train)\n",
    "y_test_pred = lm_model.predict(X_test)\n",
    "test_score = r2_score(y_test, y_test_pred)\n",
    "print(test_score)"
   ]
  },
  {
   "cell_type": "code",
   "execution_count": 178,
   "metadata": {},
   "outputs": [
    {
     "data": {
      "text/plain": [
       "<matplotlib.axes._subplots.AxesSubplot at 0x7f47674e1a20>"
      ]
     },
     "execution_count": 178,
     "metadata": {},
     "output_type": "execute_result"
    },
    {
     "data": {
      "image/png": "[encoded data removed]",
      "text/plain": [
       "<matplotlib.figure.Figure at 0x7f4767533978>"
      ]
     },
     "metadata": {
      "needs_background": "light"
     },
     "output_type": "display_data"
    }
   ],
   "source": [
    "#Is diabetes more prevelant in one gender over the other\n",
    "Complete_data.groupby(['Gender']).mean()['Diabetes']\n",
    "Gender_data = Complete_data.replace({'Gender':{1.0:'Male', 2.0:'Female'}})\n",
    "(Gender_data.groupby(['Gender']).mean()['Diabetes'].sort_values().dropna()).plot(kind='bar', color=['lightblue','lightpink'])"
   ]
  },
  {
   "cell_type": "code",
   "execution_count": 209,
   "metadata": {},
   "outputs": [
    {
     "data": {
      "text/plain": [
       "Gender\n",
       "1.0    0.140243\n",
       "2.0    0.141468\n",
       "Name: Diabetes, dtype: float64"
      ]
     },
     "execution_count": 209,
     "metadata": {},
     "output_type": "execute_result"
    }
   ],
   "source": [
    "Complete_data.groupby(['Gender']).mean()['Diabetes']"
   ]
  },
  {
   "cell_type": "code",
   "execution_count": 203,
   "metadata": {},
   "outputs": [
    {
     "data": {
      "text/plain": [
       "<matplotlib.axes._subplots.AxesSubplot at 0x7f47ccd24860>"
      ]
     },
     "execution_count": 203,
     "metadata": {},
     "output_type": "execute_result"
    },
    {
     "data": {
      "image/png": "[encoded data removed]",
      "text/plain": [
       "<matplotlib.figure.Figure at 0x7f47ccd24358>"
      ]
     },
     "metadata": {
      "needs_background": "light"
     },
     "output_type": "display_data"
    }
   ],
   "source": [
    "# Is Diabetes more prevelant in a region?\n",
    "Complete_data.groupby(['State']).mean()['Diabetes']\n",
    "#1.0:'Alabama', 2.0:'Alaska',4.0:'Arizona', 5.0:'Arkansas',6.0:'California',8.0:'Colorado', \n",
    "#9.0:'Connecticut', 10.0:'Delaware', 11.0:'District of Columbia', 12.0:'Florida', 13.0:'Georgia', \n",
    " #15.0:'Hawaii', 16.0:'Idaho', 17.0:'Illinois', 18.0:'Indiana', 19.0:'Iowa', 20.0:'Kansas', \n",
    " ## 21.0:'Kentucky', 22.0:'Louisiana', 23.0:'Maine', 24.0:'Maryland', 25.0:'Massachusetts', \n",
    "#26.0:'Michigan', 27.0:'Minnesota', 28.0:'Mississippi', 29.0:'Missouri', 30.0:'Montana', \n",
    " # 31.0:'Nebraska', 32.0:'Nevada', 33.0:'New Hampshire', 34.0:'New Jersey', 35.0:'New Mexico', \n",
    " #36.0:'New York', 37.0:'North Carolina', 38.0:'North Dakota', 39.0:'Ohio', 40.0:'Oklahoma', \n",
    "# 41.0:'Oregon', 42.0:'Pennsylvania', 44.0:'Rhode Island', 45.0:'South Carolina', \n",
    " #46.0:'South Dakota', 47.0:'Tennessee', 48.0:'Texas', 49.0:'Utah', 50.0:'Vermont', \n",
    "## 51.0:'Virginia', 53.0:'Washington', 54.0:'West Virginia', 55.0:'Wisconsin', 56.0:'Wyoming', \n",
    " #  66.0:'Guam', 72.0:'Puerto Rico'\n",
    "State_data= Complete_data.replace({'State':{ 1.0:'South', 2.0:'Other',4.0:'Southwest', 5.0:'South',6.0:'West Coast',8.0:'Rocky Mountain', \n",
    "                              9.0:'New England', 10.0:'Mid-Atlantic', 11.0:'Mid-Atlantic', 12.0:'South', 13.0:'South', \n",
    "                              15.0:'Other', 16.0:'Rocky Mountain', 17.0:'Midwest', 18.0:'Midwest', 19.0:'Midwest', 20.0:'Great Plains', \n",
    "                              21.0:'Midwest', 22.0:'South', 23.0:'New England', 24.0:'Mid-Atlantic', 25.0:'New England', \n",
    "                              26.0:'Midwest', 27.0:'Midwest', 28.0:'South', 29.0:'Midwest', 30.0:'Rocky Mountain', \n",
    "                              31.0:'Great Plains', 32.0:'Southwest', 33.0:'New England', 34.0:'Mid-Atlantic', 35.0:'Southwest', \n",
    "                              36.0:'Mid-Atlantic', 37.0:'South', 38.0:'Great Plains', 39.0:'Midwest', 40.0:'Great Plains', \n",
    "                              41.0:'West Coast', 42.0:'Mid-Atlantic', 44.0:'New England', 45.0:'South', \n",
    "                              46.0:'Great Plains', 47.0:'South', 48.0:'Southwest', 49.0:'Rocky Mountain', 50.0:'New England', \n",
    "                              51.0:'South', 53.0:'West Coast', 54.0:'South', 55.0:'Midwest', 56.0:'Rocky Mountain', \n",
    "                              66.0:'Other', 72.0:'Other'}})\n",
    "(State_data.groupby(['State']).mean()['Diabetes'].sort_values().dropna()).plot(kind='bar',color=['lightgrey','skyblue', 'thistle',\n",
    "                                                                                                 'darkseagreen', 'navajowhite','burlywood',\n",
    "                                                                                                'lightpink','lightsteelblue', 'slategray'])"
   ]
  },
  {
   "cell_type": "code",
   "execution_count": 202,
   "metadata": {},
   "outputs": [
    {
     "data": {
      "text/plain": [
       "<matplotlib.axes._subplots.AxesSubplot at 0x7f47ccd62358>"
      ]
     },
     "execution_count": 202,
     "metadata": {},
     "output_type": "execute_result"
    },
    {
     "data": {
      "image/png": "[encoded data removed]",
      "text/plain": [
       "<matplotlib.figure.Figure at 0x7f47ccd3bcc0>"
      ]
     },
     "metadata": {
      "needs_background": "light"
     },
     "output_type": "display_data"
    }
   ],
   "source": [
    "#Looking at mental heatlh\n",
    "Complete_data.groupby(['MentallyHealthyDays']).mean()['Diabetes'].sort_values().dropna()\n",
    "MentHealth_data= Complete_data.replace({'MentallyHealthyDays':{ 1.0:'Less than 7',2.0:'Less than 7',3.0:'Less than 7',\n",
    "                            4.0:'Less than 7',5.0:'Less than 7', 6.0:'Less than 7', 7.0:'7-14',8.0:'7-14',9.0:'7-14',\n",
    "                            10.0:'7-14',11.0:'7-14',12.0:'7-14',13.0:'7-14', 14.0:'7-14', 15.0:'15-25', 16.0:'15-25', \n",
    "                            17.0:'15-25', 18.0:'15-25', 19.0:'15-25', 20.0:'15-25', 21.0:'15-25', 22.0:'15-25', 23.0:'15-25', \n",
    "                            24.0:'15-25', 25.0:'15-25', 26.0:'26-30', 27.0:'26-30',28.0:'26-30',29.0:'26-30',30.0:'26-30',\n",
    "                            77.0:'Not Sure', 88.0:'0', 99.0:'Refused'}})\n",
    "(MentHealth_data.groupby(['MentallyHealthyDays']).mean()['Diabetes'].sort_values().dropna()).plot(kind='bar',color=['lightgrey','skyblue', 'thistle',\n",
    "                                                                                                 'darkseagreen','burlywood',\n",
    "                                                                                                'lightsteelblue', 'slategray'])"
   ]
  },
  {
   "cell_type": "code",
   "execution_count": 201,
   "metadata": {},
   "outputs": [
    {
     "data": {
      "text/plain": [
       "<matplotlib.axes._subplots.AxesSubplot at 0x7f47caa13160>"
      ]
     },
     "execution_count": 201,
     "metadata": {},
     "output_type": "execute_result"
    },
    {
     "data": {
      "image/png": "[encoded data removed]",
      "text/plain": [
       "<matplotlib.figure.Figure at 0x7f47ccdc17b8>"
      ]
     },
     "metadata": {
      "needs_background": "light"
     },
     "output_type": "display_data"
    }
   ],
   "source": [
    "#Looking at race\n",
    "Complete_data.groupby(['Race']).mean()['Diabetes'].sort_values().dropna()\n",
    "Race_data = Complete_data.replace({'Race':{1.0:'White', 2.0:'Black',3.0:'Native American or Alaskan Native', \n",
    "                                     4.0:'Asian',5.0:'Native Hawaiian or Pacific Islander',6.0:'Other',  \n",
    "                                     7.0: 'Multiracial', 8.0: 'Hispanic', 9.0:'Refused to Answer'}})\n",
    "(Race_data.groupby(['Race']).mean()['Diabetes'].sort_values().dropna()).plot(kind='bar',color=['lightgrey','skyblue', 'thistle',\n",
    "                                                                                                 'darkseagreen', 'navajowhite','burlywood',\n",
    "                                                                                                'lightpink','lightsteelblue', 'slategray'])"
   ]
  },
  {
   "cell_type": "code",
   "execution_count": 206,
   "metadata": {},
   "outputs": [
    {
     "data": {
      "text/plain": [
       "<matplotlib.axes._subplots.AxesSubplot at 0x7f47ccc8c630>"
      ]
     },
     "execution_count": 206,
     "metadata": {},
     "output_type": "execute_result"
    },
    {
     "data": {
      "image/png": "[encoded data removed]",
      "text/plain": [
       "<matplotlib.figure.Figure at 0x7f47ccdd4668>"
      ]
     },
     "metadata": {
      "needs_background": "light"
     },
     "output_type": "display_data"
    }
   ],
   "source": [
    "#Education and Diabetes\n",
    "Educ_data = Complete_data.replace({'EducationLevel':{1.0:'Kindergarten or less', 2.0:'Grade 1-8',3.0:'Grade 9-11', \n",
    "                                                     4.0:'High School Grad or GED',5.0:'Some College or Technical School',\n",
    "                                                     6.0:'College Graduate',  9.0:'Refused to Answer'}})\n",
    "(Educ_data.groupby(['EducationLevel']).mean()['Diabetes'].sort_values().dropna()).plot(kind='bar',color=['lightgrey','skyblue', 'thistle',\n",
    "                                                                                                 'darkseagreen', 'burlywood',\n",
    "                                                                                                'lightsteelblue', 'slategray'])"
   ]
  },
  {
   "cell_type": "code",
   "execution_count": 205,
   "metadata": {},
   "outputs": [
    {
     "data": {
      "text/plain": [
       "EducationLevel\n",
       "6.0    0.103043\n",
       "9.0    0.136691\n",
       "5.0    0.144439\n",
       "4.0    0.163479\n",
       "3.0    0.216238\n",
       "2.0    0.273899\n",
       "1.0    0.275053\n",
       "Name: Diabetes, dtype: float64"
      ]
     },
     "execution_count": 205,
     "metadata": {},
     "output_type": "execute_result"
    }
   ],
   "source": [
    "Complete_data.groupby(['EducationLevel']).mean()['Diabetes'].sort_values().dropna()"
   ]
  },
  {
   "cell_type": "code",
   "execution_count": null,
   "metadata": {},
   "outputs": [],
   "source": []
  },
  {
   "cell_type": "code",
   "execution_count": 199,
   "metadata": {},
   "outputs": [
    {
     "data": {
      "text/plain": [
       "<matplotlib.axes._subplots.AxesSubplot at 0x7f47cd3dce80>"
      ]
     },
     "execution_count": 199,
     "metadata": {},
     "output_type": "execute_result"
    },
    {
     "data": {
      "image/png": "[encoded data removed]",
      "text/plain": [
       "<matplotlib.figure.Figure at 0x7f47ccf8a048>"
      ]
     },
     "metadata": {
      "needs_background": "light"
     },
     "output_type": "display_data"
    }
   ],
   "source": [
    "#Income and Diabetes\n",
    "Inc_data = Complete_data.replace({'IncomeGroup':{1.0:'Under $10,000', 2.0:'$10k-$14,999',3.0:'$15,000-$19,999', \n",
    "                                      4.0:'$20,000-$24,999',5.0:'$25,000-$34,999',6.0:'$35,000-$49,999',  \n",
    "                                      7.0:'$50,000-$74,999', 8.0:'$75,000+', 77:'Not Sure', 99:'Refused'}})\n",
    "(Inc_data.groupby(['IncomeGroup']).mean()['Diabetes'].sort_values().dropna()).plot(kind='bar',color=['lightgrey','skyblue', 'thistle',\n",
    "                                                                                                 'darkseagreen', 'navajowhite','burlywood',\n",
    "                                                                                                'lightpink','lightsteelblue', 'slategray', 'rosybrown'])"
   ]
  },
  {
   "cell_type": "code",
   "execution_count": 198,
   "metadata": {},
   "outputs": [
    {
     "data": {
      "text/plain": [
       "<matplotlib.axes._subplots.AxesSubplot at 0x7f47cd1f7668>"
      ]
     },
     "execution_count": 198,
     "metadata": {},
     "output_type": "execute_result"
    },
    {
     "data": {
      "image/png": "[encoded data removed]",
      "text/plain": [
       "<matplotlib.figure.Figure at 0x7f47cd1fe208>"
      ]
     },
     "metadata": {
      "needs_background": "light"
     },
     "output_type": "display_data"
    }
   ],
   "source": [
    "#Weight and Diabetes\n",
    "bins = [0,100,150,200,250,300,350,400,1000,9999]\n",
    "labels = ['Under 100', '100-150', '151-200', '201-250', '251-300', '301-350', '351-400', '400+','Refused/Unknown']\n",
    "Weight_data = Complete_data\n",
    "Weight_data['WeightGroup'] = pd.cut(Weight_data['Weight'], bins=bins, labels=labels, right=False)\n",
    "(Weight_data.groupby(['WeightGroup']).mean()['Diabetes'].sort_values().dropna()).plot(kind='bar',color=['lightgrey','skyblue', 'thistle',\n",
    "                                                                                                 'darkseagreen', 'navajowhite','burlywood',\n",
    "                                                                                                'lightpink','lightsteelblue', 'slategray'])"
   ]
  },
  {
   "cell_type": "code",
   "execution_count": 207,
   "metadata": {},
   "outputs": [
    {
     "data": {
      "text/plain": [
       "<matplotlib.axes._subplots.AxesSubplot at 0x7f47ccc51fd0>"
      ]
     },
     "execution_count": 207,
     "metadata": {},
     "output_type": "execute_result"
    },
    {
     "data": {
      "image/png": "[encoded data removed]",
      "text/plain": [
       "<matplotlib.figure.Figure at 0x7f47ccd247b8>"
      ]
     },
     "metadata": {
      "needs_background": "light"
     },
     "output_type": "display_data"
    }
   ],
   "source": [
    "#Age and Diabetes\n",
    "Age_data = Complete_data.replace({'AgeGroup':{1.0:'18-24', 2.0:'25-19',3.0:'30-34', 4.0:'35-39',5.0:'40-44',6.0:'45-49',  \n",
    "                                              7.0:'50-54', 8.0:'55-59', 9.0:'60-64', 10.0:'65-69', 11.0:'70-74',\n",
    "                                              12.0:'75-79', 13.0: '80+', 14.0:'Missing/Refused'}})\n",
    "(Age_data.groupby(['AgeGroup']).mean()['Diabetes'].sort_values().dropna()).plot(kind='bar',color=['lightgrey','skyblue', 'thistle',\n",
    "                                                                                                 'darkseagreen', 'navajowhite','paleturquoise',\n",
    "                                                                                                'lightpink','lightsteelblue', 'slategray', 'rosybrown',\n",
    "                                                                                                 'burlywood','lightblue','darkseagreen','lavender'])"
   ]
  },
  {
   "cell_type": "code",
   "execution_count": 208,
   "metadata": {},
   "outputs": [
    {
     "data": {
      "text/plain": [
       "AgeGroup\n",
       "1.0     0.013473\n",
       "2.0     0.029380\n",
       "3.0     0.043586\n",
       "4.0     0.062421\n",
       "5.0     0.079665\n",
       "6.0     0.097213\n",
       "14.0    0.117940\n",
       "7.0     0.122794\n",
       "8.0     0.142737\n",
       "9.0     0.175568\n",
       "13.0    0.183736\n",
       "10.0    0.205433\n",
       "12.0    0.218802\n",
       "11.0    0.221054\n",
       "Name: Diabetes, dtype: float64"
      ]
     },
     "execution_count": 208,
     "metadata": {},
     "output_type": "execute_result"
    }
   ],
   "source": [
    "Complete_data.groupby(['AgeGroup']).mean()['Diabetes'].sort_values().dropna()"
   ]
  },
  {
   "cell_type": "code",
   "execution_count": 13,
   "metadata": {},
   "outputs": [
    {
     "data": {
      "text/html": [
       "<style  type=\"text/css\" >\n",
       "    #T_8fef49ce_d559_11ec_a1c5_0242ac120002row0_col0 {\n",
       "            background-color:  #b40426;\n",
       "        }    #T_8fef49ce_d559_11ec_a1c5_0242ac120002row0_col1 {\n",
       "            background-color:  #9abbff;\n",
       "        }    #T_8fef49ce_d559_11ec_a1c5_0242ac120002row0_col2 {\n",
       "            background-color:  #4358cb;\n",
       "        }    #T_8fef49ce_d559_11ec_a1c5_0242ac120002row0_col3 {\n",
       "            background-color:  #4055c8;\n",
       "        }    #T_8fef49ce_d559_11ec_a1c5_0242ac120002row0_col4 {\n",
       "            background-color:  #4961d2;\n",
       "        }    #T_8fef49ce_d559_11ec_a1c5_0242ac120002row0_col5 {\n",
       "            background-color:  #6e90f2;\n",
       "        }    #T_8fef49ce_d559_11ec_a1c5_0242ac120002row0_col6 {\n",
       "            background-color:  #516ddb;\n",
       "        }    #T_8fef49ce_d559_11ec_a1c5_0242ac120002row0_col7 {\n",
       "            background-color:  #5673e0;\n",
       "        }    #T_8fef49ce_d559_11ec_a1c5_0242ac120002row0_col8 {\n",
       "            background-color:  #445acc;\n",
       "        }    #T_8fef49ce_d559_11ec_a1c5_0242ac120002row1_col0 {\n",
       "            background-color:  #8db0fe;\n",
       "        }    #T_8fef49ce_d559_11ec_a1c5_0242ac120002row1_col1 {\n",
       "            background-color:  #b40426;\n",
       "        }    #T_8fef49ce_d559_11ec_a1c5_0242ac120002row1_col2 {\n",
       "            background-color:  #3e51c5;\n",
       "        }    #T_8fef49ce_d559_11ec_a1c5_0242ac120002row1_col3 {\n",
       "            background-color:  #6282ea;\n",
       "        }    #T_8fef49ce_d559_11ec_a1c5_0242ac120002row1_col4 {\n",
       "            background-color:  #5a78e4;\n",
       "        }    #T_8fef49ce_d559_11ec_a1c5_0242ac120002row1_col5 {\n",
       "            background-color:  #3b4cc0;\n",
       "        }    #T_8fef49ce_d559_11ec_a1c5_0242ac120002row1_col6 {\n",
       "            background-color:  #8db0fe;\n",
       "        }    #T_8fef49ce_d559_11ec_a1c5_0242ac120002row1_col7 {\n",
       "            background-color:  #6a8bef;\n",
       "        }    #T_8fef49ce_d559_11ec_a1c5_0242ac120002row1_col8 {\n",
       "            background-color:  #3e51c5;\n",
       "        }    #T_8fef49ce_d559_11ec_a1c5_0242ac120002row2_col0 {\n",
       "            background-color:  #5a78e4;\n",
       "        }    #T_8fef49ce_d559_11ec_a1c5_0242ac120002row2_col1 {\n",
       "            background-color:  #6485ec;\n",
       "        }    #T_8fef49ce_d559_11ec_a1c5_0242ac120002row2_col2 {\n",
       "            background-color:  #b40426;\n",
       "        }    #T_8fef49ce_d559_11ec_a1c5_0242ac120002row2_col3 {\n",
       "            background-color:  #688aef;\n",
       "        }    #T_8fef49ce_d559_11ec_a1c5_0242ac120002row2_col4 {\n",
       "            background-color:  #6180e9;\n",
       "        }    #T_8fef49ce_d559_11ec_a1c5_0242ac120002row2_col5 {\n",
       "            background-color:  #6e90f2;\n",
       "        }    #T_8fef49ce_d559_11ec_a1c5_0242ac120002row2_col6 {\n",
       "            background-color:  #5a78e4;\n",
       "        }    #T_8fef49ce_d559_11ec_a1c5_0242ac120002row2_col7 {\n",
       "            background-color:  #6c8ff1;\n",
       "        }    #T_8fef49ce_d559_11ec_a1c5_0242ac120002row2_col8 {\n",
       "            background-color:  #4358cb;\n",
       "        }    #T_8fef49ce_d559_11ec_a1c5_0242ac120002row3_col0 {\n",
       "            background-color:  #5572df;\n",
       "        }    #T_8fef49ce_d559_11ec_a1c5_0242ac120002row3_col1 {\n",
       "            background-color:  #84a7fc;\n",
       "        }    #T_8fef49ce_d559_11ec_a1c5_0242ac120002row3_col2 {\n",
       "            background-color:  #6485ec;\n",
       "        }    #T_8fef49ce_d559_11ec_a1c5_0242ac120002row3_col3 {\n",
       "            background-color:  #b40426;\n",
       "        }    #T_8fef49ce_d559_11ec_a1c5_0242ac120002row3_col4 {\n",
       "            background-color:  #5d7ce6;\n",
       "        }    #T_8fef49ce_d559_11ec_a1c5_0242ac120002row3_col5 {\n",
       "            background-color:  #6788ee;\n",
       "        }    #T_8fef49ce_d559_11ec_a1c5_0242ac120002row3_col6 {\n",
       "            background-color:  #6687ed;\n",
       "        }    #T_8fef49ce_d559_11ec_a1c5_0242ac120002row3_col7 {\n",
       "            background-color:  #6a8bef;\n",
       "        }    #T_8fef49ce_d559_11ec_a1c5_0242ac120002row3_col8 {\n",
       "            background-color:  #4257c9;\n",
       "        }    #T_8fef49ce_d559_11ec_a1c5_0242ac120002row4_col0 {\n",
       "            background-color:  #3b4cc0;\n",
       "        }    #T_8fef49ce_d559_11ec_a1c5_0242ac120002row4_col1 {\n",
       "            background-color:  #5a78e4;\n",
       "        }    #T_8fef49ce_d559_11ec_a1c5_0242ac120002row4_col2 {\n",
       "            background-color:  #3b4cc0;\n",
       "        }    #T_8fef49ce_d559_11ec_a1c5_0242ac120002row4_col3 {\n",
       "            background-color:  #3b4cc0;\n",
       "        }    #T_8fef49ce_d559_11ec_a1c5_0242ac120002row4_col4 {\n",
       "            background-color:  #b40426;\n",
       "        }    #T_8fef49ce_d559_11ec_a1c5_0242ac120002row4_col5 {\n",
       "            background-color:  #3b4cc0;\n",
       "        }    #T_8fef49ce_d559_11ec_a1c5_0242ac120002row4_col6 {\n",
       "            background-color:  #5977e3;\n",
       "        }    #T_8fef49ce_d559_11ec_a1c5_0242ac120002row4_col7 {\n",
       "            background-color:  #516ddb;\n",
       "        }    #T_8fef49ce_d559_11ec_a1c5_0242ac120002row4_col8 {\n",
       "            background-color:  #3b4cc0;\n",
       "        }    #T_8fef49ce_d559_11ec_a1c5_0242ac120002row5_col0 {\n",
       "            background-color:  #5f7fe8;\n",
       "        }    #T_8fef49ce_d559_11ec_a1c5_0242ac120002row5_col1 {\n",
       "            background-color:  #3b4cc0;\n",
       "        }    #T_8fef49ce_d559_11ec_a1c5_0242ac120002row5_col2 {\n",
       "            background-color:  #465ecf;\n",
       "        }    #T_8fef49ce_d559_11ec_a1c5_0242ac120002row5_col3 {\n",
       "            background-color:  #445acc;\n",
       "        }    #T_8fef49ce_d559_11ec_a1c5_0242ac120002row5_col4 {\n",
       "            background-color:  #3b4cc0;\n",
       "        }    #T_8fef49ce_d559_11ec_a1c5_0242ac120002row5_col5 {\n",
       "            background-color:  #b40426;\n",
       "        }    #T_8fef49ce_d559_11ec_a1c5_0242ac120002row5_col6 {\n",
       "            background-color:  #536edd;\n",
       "        }    #T_8fef49ce_d559_11ec_a1c5_0242ac120002row5_col7 {\n",
       "            background-color:  #516ddb;\n",
       "        }    #T_8fef49ce_d559_11ec_a1c5_0242ac120002row5_col8 {\n",
       "            background-color:  #536edd;\n",
       "        }    #T_8fef49ce_d559_11ec_a1c5_0242ac120002row6_col0 {\n",
       "            background-color:  #536edd;\n",
       "        }    #T_8fef49ce_d559_11ec_a1c5_0242ac120002row6_col1 {\n",
       "            background-color:  #9dbdff;\n",
       "        }    #T_8fef49ce_d559_11ec_a1c5_0242ac120002row6_col2 {\n",
       "            background-color:  #445acc;\n",
       "        }    #T_8fef49ce_d559_11ec_a1c5_0242ac120002row6_col3 {\n",
       "            background-color:  #536edd;\n",
       "        }    #T_8fef49ce_d559_11ec_a1c5_0242ac120002row6_col4 {\n",
       "            background-color:  #6a8bef;\n",
       "        }    #T_8fef49ce_d559_11ec_a1c5_0242ac120002row6_col5 {\n",
       "            background-color:  #6384eb;\n",
       "        }    #T_8fef49ce_d559_11ec_a1c5_0242ac120002row6_col6 {\n",
       "            background-color:  #b40426;\n",
       "        }    #T_8fef49ce_d559_11ec_a1c5_0242ac120002row6_col7 {\n",
       "            background-color:  #3b4cc0;\n",
       "        }    #T_8fef49ce_d559_11ec_a1c5_0242ac120002row6_col8 {\n",
       "            background-color:  #465ecf;\n",
       "        }    #T_8fef49ce_d559_11ec_a1c5_0242ac120002row7_col0 {\n",
       "            background-color:  #5875e1;\n",
       "        }    #T_8fef49ce_d559_11ec_a1c5_0242ac120002row7_col1 {\n",
       "            background-color:  #7a9df8;\n",
       "        }    #T_8fef49ce_d559_11ec_a1c5_0242ac120002row7_col2 {\n",
       "            background-color:  #5673e0;\n",
       "        }    #T_8fef49ce_d559_11ec_a1c5_0242ac120002row7_col3 {\n",
       "            background-color:  #5673e0;\n",
       "        }    #T_8fef49ce_d559_11ec_a1c5_0242ac120002row7_col4 {\n",
       "            background-color:  #6282ea;\n",
       "        }    #T_8fef49ce_d559_11ec_a1c5_0242ac120002row7_col5 {\n",
       "            background-color:  #6282ea;\n",
       "        }    #T_8fef49ce_d559_11ec_a1c5_0242ac120002row7_col6 {\n",
       "            background-color:  #3b4cc0;\n",
       "        }    #T_8fef49ce_d559_11ec_a1c5_0242ac120002row7_col7 {\n",
       "            background-color:  #b40426;\n",
       "        }    #T_8fef49ce_d559_11ec_a1c5_0242ac120002row7_col8 {\n",
       "            background-color:  #4358cb;\n",
       "        }    #T_8fef49ce_d559_11ec_a1c5_0242ac120002row8_col0 {\n",
       "            background-color:  #5977e3;\n",
       "        }    #T_8fef49ce_d559_11ec_a1c5_0242ac120002row8_col1 {\n",
       "            background-color:  #6282ea;\n",
       "        }    #T_8fef49ce_d559_11ec_a1c5_0242ac120002row8_col2 {\n",
       "            background-color:  #3f53c6;\n",
       "        }    #T_8fef49ce_d559_11ec_a1c5_0242ac120002row8_col3 {\n",
       "            background-color:  #4257c9;\n",
       "        }    #T_8fef49ce_d559_11ec_a1c5_0242ac120002row8_col4 {\n",
       "            background-color:  #5d7ce6;\n",
       "        }    #T_8fef49ce_d559_11ec_a1c5_0242ac120002row8_col5 {\n",
       "            background-color:  #7699f6;\n",
       "        }    #T_8fef49ce_d559_11ec_a1c5_0242ac120002row8_col6 {\n",
       "            background-color:  #5977e3;\n",
       "        }    #T_8fef49ce_d559_11ec_a1c5_0242ac120002row8_col7 {\n",
       "            background-color:  #5673e0;\n",
       "        }    #T_8fef49ce_d559_11ec_a1c5_0242ac120002row8_col8 {\n",
       "            background-color:  #b40426;\n",
       "        }</style>  \n",
       "<table id=\"T_8fef49ce_d559_11ec_a1c5_0242ac120002\" > \n",
       "<thead>    <tr> \n",
       "        <th class=\"blank level0\" ></th> \n",
       "        <th class=\"col_heading level0 col0\" >Diabetes</th> \n",
       "        <th class=\"col_heading level0 col1\" >AgeGroup</th> \n",
       "        <th class=\"col_heading level0 col2\" >Weight</th> \n",
       "        <th class=\"col_heading level0 col3\" >IncomeGroup</th> \n",
       "        <th class=\"col_heading level0 col4\" >EducationLevel</th> \n",
       "        <th class=\"col_heading level0 col5\" >Race</th> \n",
       "        <th class=\"col_heading level0 col6\" >MentallyHealthyDays</th> \n",
       "        <th class=\"col_heading level0 col7\" >Gender</th> \n",
       "        <th class=\"col_heading level0 col8\" >State</th> \n",
       "    </tr></thead> \n",
       "<tbody>    <tr> \n",
       "        <th id=\"T_8fef49ce_d559_11ec_a1c5_0242ac120002level0_row0\" class=\"row_heading level0 row0\" >Diabetes</th> \n",
       "        <td id=\"T_8fef49ce_d559_11ec_a1c5_0242ac120002row0_col0\" class=\"data row0 col0\" >1</td> \n",
       "        <td id=\"T_8fef49ce_d559_11ec_a1c5_0242ac120002row0_col1\" class=\"data row0 col1\" >0.173799</td> \n",
       "        <td id=\"T_8fef49ce_d559_11ec_a1c5_0242ac120002row0_col2\" class=\"data row0 col2\" >0.0102517</td> \n",
       "        <td id=\"T_8fef49ce_d559_11ec_a1c5_0242ac120002row0_col3\" class=\"data row0 col3\" >-0.00554968</td> \n",
       "        <td id=\"T_8fef49ce_d559_11ec_a1c5_0242ac120002row0_col4\" class=\"data row0 col4\" >-0.102818</td> \n",
       "        <td id=\"T_8fef49ce_d559_11ec_a1c5_0242ac120002row0_col5\" class=\"data row0 col5\" >0.0289956</td> \n",
       "        <td id=\"T_8fef49ce_d559_11ec_a1c5_0242ac120002row0_col6\" class=\"data row0 col6\" >-0.0148829</td> \n",
       "        <td id=\"T_8fef49ce_d559_11ec_a1c5_0242ac120002row0_col7\" class=\"data row0 col7\" >0.0017358</td> \n",
       "        <td id=\"T_8fef49ce_d559_11ec_a1c5_0242ac120002row0_col8\" class=\"data row0 col8\" >0.00655354</td> \n",
       "    </tr>    <tr> \n",
       "        <th id=\"T_8fef49ce_d559_11ec_a1c5_0242ac120002level0_row1\" class=\"row_heading level0 row1\" >AgeGroup</th> \n",
       "        <td id=\"T_8fef49ce_d559_11ec_a1c5_0242ac120002row1_col0\" class=\"data row1 col0\" >0.173799</td> \n",
       "        <td id=\"T_8fef49ce_d559_11ec_a1c5_0242ac120002row1_col1\" class=\"data row1 col1\" >1</td> \n",
       "        <td id=\"T_8fef49ce_d559_11ec_a1c5_0242ac120002row1_col2\" class=\"data row1 col2\" >-0.00454681</td> \n",
       "        <td id=\"T_8fef49ce_d559_11ec_a1c5_0242ac120002row1_col3\" class=\"data row1 col3\" >0.0995397</td> \n",
       "        <td id=\"T_8fef49ce_d559_11ec_a1c5_0242ac120002row1_col4\" class=\"data row1 col4\" >-0.0391368</td> \n",
       "        <td id=\"T_8fef49ce_d559_11ec_a1c5_0242ac120002row1_col5\" class=\"data row1 col5\" >-0.160945</td> \n",
       "        <td id=\"T_8fef49ce_d559_11ec_a1c5_0242ac120002row1_col6\" class=\"data row1 col6\" >0.180682</td> \n",
       "        <td id=\"T_8fef49ce_d559_11ec_a1c5_0242ac120002row1_col7\" class=\"data row1 col7\" >0.0683056</td> \n",
       "        <td id=\"T_8fef49ce_d559_11ec_a1c5_0242ac120002row1_col8\" class=\"data row1 col8\" >-0.0144361</td> \n",
       "    </tr>    <tr> \n",
       "        <th id=\"T_8fef49ce_d559_11ec_a1c5_0242ac120002level0_row2\" class=\"row_heading level0 row2\" >Weight</th> \n",
       "        <td id=\"T_8fef49ce_d559_11ec_a1c5_0242ac120002row2_col0\" class=\"data row2 col0\" >0.0102517</td> \n",
       "        <td id=\"T_8fef49ce_d559_11ec_a1c5_0242ac120002row2_col1\" class=\"data row2 col1\" >-0.00454681</td> \n",
       "        <td id=\"T_8fef49ce_d559_11ec_a1c5_0242ac120002row2_col2\" class=\"data row2 col2\" >1</td> \n",
       "        <td id=\"T_8fef49ce_d559_11ec_a1c5_0242ac120002row2_col3\" class=\"data row2 col3\" >0.120964</td> \n",
       "        <td id=\"T_8fef49ce_d559_11ec_a1c5_0242ac120002row2_col4\" class=\"data row2 col4\" >-0.0181781</td> \n",
       "        <td id=\"T_8fef49ce_d559_11ec_a1c5_0242ac120002row2_col5\" class=\"data row2 col5\" >0.0254198</td> \n",
       "        <td id=\"T_8fef49ce_d559_11ec_a1c5_0242ac120002row2_col6\" class=\"data row2 col6\" >0.0147098</td> \n",
       "        <td id=\"T_8fef49ce_d559_11ec_a1c5_0242ac120002row2_col7\" class=\"data row2 col7\" >0.0746006</td> \n",
       "        <td id=\"T_8fef49ce_d559_11ec_a1c5_0242ac120002row2_col8\" class=\"data row2 col8\" >0.00153882</td> \n",
       "    </tr>    <tr> \n",
       "        <th id=\"T_8fef49ce_d559_11ec_a1c5_0242ac120002level0_row3\" class=\"row_heading level0 row3\" >IncomeGroup</th> \n",
       "        <td id=\"T_8fef49ce_d559_11ec_a1c5_0242ac120002row3_col0\" class=\"data row3 col0\" >-0.00554968</td> \n",
       "        <td id=\"T_8fef49ce_d559_11ec_a1c5_0242ac120002row3_col1\" class=\"data row3 col1\" >0.0995397</td> \n",
       "        <td id=\"T_8fef49ce_d559_11ec_a1c5_0242ac120002row3_col2\" class=\"data row3 col2\" >0.120964</td> \n",
       "        <td id=\"T_8fef49ce_d559_11ec_a1c5_0242ac120002row3_col3\" class=\"data row3 col3\" >1</td> \n",
       "        <td id=\"T_8fef49ce_d559_11ec_a1c5_0242ac120002row3_col4\" class=\"data row3 col4\" >-0.0293463</td> \n",
       "        <td id=\"T_8fef49ce_d559_11ec_a1c5_0242ac120002row3_col5\" class=\"data row3 col5\" >0.00677275</td> \n",
       "        <td id=\"T_8fef49ce_d559_11ec_a1c5_0242ac120002row3_col6\" class=\"data row3 col6\" >0.0532738</td> \n",
       "        <td id=\"T_8fef49ce_d559_11ec_a1c5_0242ac120002row3_col7\" class=\"data row3 col7\" >0.066086</td> \n",
       "        <td id=\"T_8fef49ce_d559_11ec_a1c5_0242ac120002row3_col8\" class=\"data row3 col8\" >-0.00395481</td> \n",
       "    </tr>    <tr> \n",
       "        <th id=\"T_8fef49ce_d559_11ec_a1c5_0242ac120002level0_row4\" class=\"row_heading level0 row4\" >EducationLevel</th> \n",
       "        <td id=\"T_8fef49ce_d559_11ec_a1c5_0242ac120002row4_col0\" class=\"data row4 col0\" >-0.102818</td> \n",
       "        <td id=\"T_8fef49ce_d559_11ec_a1c5_0242ac120002row4_col1\" class=\"data row4 col1\" >-0.0391368</td> \n",
       "        <td id=\"T_8fef49ce_d559_11ec_a1c5_0242ac120002row4_col2\" class=\"data row4 col2\" >-0.0181781</td> \n",
       "        <td id=\"T_8fef49ce_d559_11ec_a1c5_0242ac120002row4_col3\" class=\"data row4 col3\" >-0.0293463</td> \n",
       "        <td id=\"T_8fef49ce_d559_11ec_a1c5_0242ac120002row4_col4\" class=\"data row4 col4\" >1</td> \n",
       "        <td id=\"T_8fef49ce_d559_11ec_a1c5_0242ac120002row4_col5\" class=\"data row4 col5\" >-0.158933</td> \n",
       "        <td id=\"T_8fef49ce_d559_11ec_a1c5_0242ac120002row4_col6\" class=\"data row4 col6\" >0.013524</td> \n",
       "        <td id=\"T_8fef49ce_d559_11ec_a1c5_0242ac120002row4_col7\" class=\"data row4 col7\" >-0.0128082</td> \n",
       "        <td id=\"T_8fef49ce_d559_11ec_a1c5_0242ac120002row4_col8\" class=\"data row4 col8\" >-0.0284859</td> \n",
       "    </tr>    <tr> \n",
       "        <th id=\"T_8fef49ce_d559_11ec_a1c5_0242ac120002level0_row5\" class=\"row_heading level0 row5\" >Race</th> \n",
       "        <td id=\"T_8fef49ce_d559_11ec_a1c5_0242ac120002row5_col0\" class=\"data row5 col0\" >0.0289956</td> \n",
       "        <td id=\"T_8fef49ce_d559_11ec_a1c5_0242ac120002row5_col1\" class=\"data row5 col1\" >-0.160945</td> \n",
       "        <td id=\"T_8fef49ce_d559_11ec_a1c5_0242ac120002row5_col2\" class=\"data row5 col2\" >0.0254198</td> \n",
       "        <td id=\"T_8fef49ce_d559_11ec_a1c5_0242ac120002row5_col3\" class=\"data row5 col3\" >0.00677275</td> \n",
       "        <td id=\"T_8fef49ce_d559_11ec_a1c5_0242ac120002row5_col4\" class=\"data row5 col4\" >-0.158933</td> \n",
       "        <td id=\"T_8fef49ce_d559_11ec_a1c5_0242ac120002row5_col5\" class=\"data row5 col5\" >1</td> \n",
       "        <td id=\"T_8fef49ce_d559_11ec_a1c5_0242ac120002row5_col6\" class=\"data row5 col6\" >-0.00950839</td> \n",
       "        <td id=\"T_8fef49ce_d559_11ec_a1c5_0242ac120002row5_col7\" class=\"data row5 col7\" >-0.011961</td> \n",
       "        <td id=\"T_8fef49ce_d559_11ec_a1c5_0242ac120002row5_col8\" class=\"data row5 col8\" >0.0536876</td> \n",
       "    </tr>    <tr> \n",
       "        <th id=\"T_8fef49ce_d559_11ec_a1c5_0242ac120002level0_row6\" class=\"row_heading level0 row6\" >MentallyHealthyDays</th> \n",
       "        <td id=\"T_8fef49ce_d559_11ec_a1c5_0242ac120002row6_col0\" class=\"data row6 col0\" >-0.0148829</td> \n",
       "        <td id=\"T_8fef49ce_d559_11ec_a1c5_0242ac120002row6_col1\" class=\"data row6 col1\" >0.180682</td> \n",
       "        <td id=\"T_8fef49ce_d559_11ec_a1c5_0242ac120002row6_col2\" class=\"data row6 col2\" >0.0147098</td> \n",
       "        <td id=\"T_8fef49ce_d559_11ec_a1c5_0242ac120002row6_col3\" class=\"data row6 col3\" >0.0532738</td> \n",
       "        <td id=\"T_8fef49ce_d559_11ec_a1c5_0242ac120002row6_col4\" class=\"data row6 col4\" >0.013524</td> \n",
       "        <td id=\"T_8fef49ce_d559_11ec_a1c5_0242ac120002row6_col5\" class=\"data row6 col5\" >-0.00950839</td> \n",
       "        <td id=\"T_8fef49ce_d559_11ec_a1c5_0242ac120002row6_col6\" class=\"data row6 col6\" >1</td> \n",
       "        <td id=\"T_8fef49ce_d559_11ec_a1c5_0242ac120002row6_col7\" class=\"data row6 col7\" >-0.097167</td> \n",
       "        <td id=\"T_8fef49ce_d559_11ec_a1c5_0242ac120002row6_col8\" class=\"data row6 col8\" >0.013616</td> \n",
       "    </tr>    <tr> \n",
       "        <th id=\"T_8fef49ce_d559_11ec_a1c5_0242ac120002level0_row7\" class=\"row_heading level0 row7\" >Gender</th> \n",
       "        <td id=\"T_8fef49ce_d559_11ec_a1c5_0242ac120002row7_col0\" class=\"data row7 col0\" >0.0017358</td> \n",
       "        <td id=\"T_8fef49ce_d559_11ec_a1c5_0242ac120002row7_col1\" class=\"data row7 col1\" >0.0683056</td> \n",
       "        <td id=\"T_8fef49ce_d559_11ec_a1c5_0242ac120002row7_col2\" class=\"data row7 col2\" >0.0746006</td> \n",
       "        <td id=\"T_8fef49ce_d559_11ec_a1c5_0242ac120002row7_col3\" class=\"data row7 col3\" >0.066086</td> \n",
       "        <td id=\"T_8fef49ce_d559_11ec_a1c5_0242ac120002row7_col4\" class=\"data row7 col4\" >-0.0128082</td> \n",
       "        <td id=\"T_8fef49ce_d559_11ec_a1c5_0242ac120002row7_col5\" class=\"data row7 col5\" >-0.011961</td> \n",
       "        <td id=\"T_8fef49ce_d559_11ec_a1c5_0242ac120002row7_col6\" class=\"data row7 col6\" >-0.097167</td> \n",
       "        <td id=\"T_8fef49ce_d559_11ec_a1c5_0242ac120002row7_col7\" class=\"data row7 col7\" >1</td> \n",
       "        <td id=\"T_8fef49ce_d559_11ec_a1c5_0242ac120002row7_col8\" class=\"data row7 col8\" >0.00245581</td> \n",
       "    </tr>    <tr> \n",
       "        <th id=\"T_8fef49ce_d559_11ec_a1c5_0242ac120002level0_row8\" class=\"row_heading level0 row8\" >State</th> \n",
       "        <td id=\"T_8fef49ce_d559_11ec_a1c5_0242ac120002row8_col0\" class=\"data row8 col0\" >0.00655354</td> \n",
       "        <td id=\"T_8fef49ce_d559_11ec_a1c5_0242ac120002row8_col1\" class=\"data row8 col1\" >-0.0144361</td> \n",
       "        <td id=\"T_8fef49ce_d559_11ec_a1c5_0242ac120002row8_col2\" class=\"data row8 col2\" >0.00153882</td> \n",
       "        <td id=\"T_8fef49ce_d559_11ec_a1c5_0242ac120002row8_col3\" class=\"data row8 col3\" >-0.00395481</td> \n",
       "        <td id=\"T_8fef49ce_d559_11ec_a1c5_0242ac120002row8_col4\" class=\"data row8 col4\" >-0.0284859</td> \n",
       "        <td id=\"T_8fef49ce_d559_11ec_a1c5_0242ac120002row8_col5\" class=\"data row8 col5\" >0.0536876</td> \n",
       "        <td id=\"T_8fef49ce_d559_11ec_a1c5_0242ac120002row8_col6\" class=\"data row8 col6\" >0.013616</td> \n",
       "        <td id=\"T_8fef49ce_d559_11ec_a1c5_0242ac120002row8_col7\" class=\"data row8 col7\" >0.00245581</td> \n",
       "        <td id=\"T_8fef49ce_d559_11ec_a1c5_0242ac120002row8_col8\" class=\"data row8 col8\" >1</td> \n",
       "    </tr></tbody> \n",
       "</table> "
      ],
      "text/plain": [
       "<pandas.io.formats.style.Styler at 0x7f692a133c18>"
      ]
     },
     "execution_count": 13,
     "metadata": {},
     "output_type": "execute_result"
    }
   ],
   "source": [
    "#Correlation matrix\n",
    "corr =Complete_data.corr()\n",
    "corr.style.background_gradient(cmap='coolwarm')"
   ]
  },
  {
   "cell_type": "code",
   "execution_count": null,
   "metadata": {},
   "outputs": [],
   "source": []
  },
  {
   "cell_type": "code",
   "execution_count": null,
   "metadata": {},
   "outputs": [],
   "source": []
  },
  {
   "cell_type": "code",
   "execution_count": null,
   "metadata": {},
   "outputs": [],
   "source": []
  },
  {
   "cell_type": "code",
   "execution_count": null,
   "metadata": {},
   "outputs": [],
   "source": []
  }
 ],
 "metadata": {
  "kernelspec": {
   "display_name": "Python 3",
   "language": "python",
   "name": "python3"
  },
  "language_info": {
   "codemirror_mode": {
    "name": "ipython",
    "version": 3
   },
   "file_extension": ".py",
   "mimetype": "text/x-python",
   "name": "python",
   "nbconvert_exporter": "python",
   "pygments_lexer": "ipython3",
   "version": "3.6.3"
  }
 },
 "nbformat": 4,
 "nbformat_minor": 2
}
